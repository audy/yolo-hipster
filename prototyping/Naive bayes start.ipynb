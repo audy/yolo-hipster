{
 "metadata": {
  "name": "Naive bayes start"
 },
 "nbformat": 3,
 "nbformat_minor": 0,
 "worksheets": [
  {
   "cells": [
    {
     "cell_type": "code",
     "collapsed": false,
     "input": "from sklearn import datasets\nfrom sklearn.naive_bayes import GaussianNB, MultinomialNB, BernoulliNB\nfrom skbio.core.sequence import DNASequence\nfrom skbio.parse.sequences import parse_fasta\nfrom itertools import chain",
     "language": "python",
     "metadata": {},
     "outputs": [],
     "prompt_number": 1
    },
    {
     "cell_type": "code",
     "collapsed": false,
     "input": "kword_size = 8 # based on RDP classifier pub\nseqs_fp = '/Users/mcdonadt/ResearchWork/greengenes_release/gg_13_8_otus/rep_set/88_otus.fasta'\ntaxa_fp = '/Users/mcdonadt/ResearchWork/greengenes_release/gg_13_8_otus/taxonomy/88_otu_taxonomy.txt'\n\nsequences = {id_: DNASequence(s) for id_, s in parse_fasta(seqs_fp)}",
     "language": "python",
     "metadata": {},
     "outputs": [],
     "prompt_number": 2
    },
    {
     "cell_type": "code",
     "collapsed": false,
     "input": "# probably can do this smarter...\nkwords_full = {i for i in chain(*map(lambda x: x.k_words(kword_size), sequences.values()))}\nall_kwords = []\nfor k in kwords_full:\n    if sum(1 if c in ['A', 'G', 'T', 'C'] else 0 for c in k) == kword_size:\n        all_kwords.append(k)\n        \nall_kwords = set(all_kwords)\nindex_map = {k: idx for idx, k in enumerate(all_kwords)}\n\nprint len(all_kwords) # note, 65536 == 4**8\nprint len(sequences)\nprint (len(all_kwords) * len(sequences)) / 1000000",
     "language": "python",
     "metadata": {},
     "outputs": [
      {
       "output_type": "stream",
       "stream": "stdout",
       "text": "65536\n10544\n691\n"
      }
     ],
     "prompt_number": 3
    },
    {
     "cell_type": "code",
     "collapsed": false,
     "input": "kwords = zeros((len(sequences), len(index_map)), dtype=np.uint8)\n\nfor idx, (id_, seq) in enumerate(sequences.iteritems()):\n    for kword, count in seq.k_word_counts(kword_size).iteritems():\n        if kword not in index_map:\n            continue\n        kwords[idx, index_map[kword]] = count",
     "language": "python",
     "metadata": {},
     "outputs": [],
     "prompt_number": 4
    },
    {
     "cell_type": "code",
     "collapsed": false,
     "input": "taxa_lines = [l.strip().split('\\t') for l in open(taxa_fp)]\n#taxa = {k: v.split('; ') for k, v in taxa_lines}\n#targets = array([taxa[id_][4] for id_ in sequences])\ntaxa = {k: v for k, v in taxa_lines}\ntargets = array([taxa[id_] for id_ in sequences])",
     "language": "python",
     "metadata": {},
     "outputs": [],
     "prompt_number": 5
    },
    {
     "cell_type": "code",
     "collapsed": false,
     "input": "#gnb = GaussianNB()\n#gnb_fit = gnb.fit(kwords, targets)\n#y_pred = gnb_fit.predict(kwords)\n#(targets != y_pred).sum()",
     "language": "python",
     "metadata": {},
     "outputs": [],
     "prompt_number": 33
    },
    {
     "cell_type": "code",
     "collapsed": false,
     "input": "len(targets)",
     "language": "python",
     "metadata": {},
     "outputs": [
      {
       "metadata": {},
       "output_type": "pyout",
       "prompt_number": 34,
       "text": "10544"
      }
     ],
     "prompt_number": 34
    },
    {
     "cell_type": "code",
     "collapsed": false,
     "input": "mnb = MultinomialNB(alpha=.01) \nmnb_fit = mnb.fit(kwords, targets)\ny_pred = mnb_fit.predict(kwords)\n(targets != y_pred).sum()",
     "language": "python",
     "metadata": {},
     "outputs": [
      {
       "metadata": {},
       "output_type": "pyout",
       "prompt_number": 14,
       "text": "25"
      }
     ],
     "prompt_number": 14
    },
    {
     "cell_type": "code",
     "collapsed": false,
     "input": "targets[argwhere(targets != y_pred)]",
     "language": "python",
     "metadata": {},
     "outputs": [
      {
       "metadata": {},
       "output_type": "pyout",
       "prompt_number": 15,
       "text": "array([[ 'k__Bacteria; p__Firmicutes; c__Clostridia; o__Clostridiales; f__; g__; s__'],\n       [ 'k__Bacteria; p__Firmicutes; c__Clostridia; o__Clostridiales; f__; g__; s__'],\n       [ 'k__Bacteria; p__Proteobacteria; c__Alphaproteobacteria; o__Rickettsiales; f__mitochondria; g__; s__'],\n       [ 'k__Bacteria; p__Firmicutes; c__Clostridia; o__Clostridiales; f__Ruminococcaceae; g__; s__'],\n       [ 'k__Bacteria; p__Firmicutes; c__Clostridia; o__Clostridiales; f__; g__; s__'],\n       [ 'k__Bacteria; p__Firmicutes; c__Clostridia; o__Clostridiales; f__Ruminococcaceae; g__; s__'],\n       [ 'k__Bacteria; p__Bacteroidetes; c__Bacteroidia; o__Bacteroidales; f__; g__; s__'],\n       [ 'k__Bacteria; p__Bacteroidetes; c__Cytophagia; o__Cytophagales; f__Flammeovirgaceae; g__Flexithrix; s__'],\n       ['k__Bacteria; p__; c__; o__; f__; g__; s__'],\n       [ 'k__Bacteria; p__Firmicutes; c__Clostridia; o__Clostridiales; f__Clostridiaceae; g__Clostridium; s__'],\n       [ 'k__Bacteria; p__Firmicutes; c__Clostridia; o__Clostridiales; f__Ruminococcaceae; g__; s__'],\n       [ 'k__Bacteria; p__Firmicutes; c__Clostridia; o__Clostridiales; f__; g__; s__'],\n       [ 'k__Bacteria; p__Firmicutes; c__Clostridia; o__Clostridiales; f__; g__; s__'],\n       [ 'k__Bacteria; p__Firmicutes; c__Clostridia; o__Clostridiales; f__Ruminococcaceae; g__; s__'],\n       [ 'k__Bacteria; p__Bacteroidetes; c__Sphingobacteriia; o__Sphingobacteriales; f__Sphingobacteriaceae; g__; s__'],\n       [ 'k__Bacteria; p__Firmicutes; c__Clostridia; o__Clostridiales; f__; g__; s__'],\n       [ 'k__Bacteria; p__Firmicutes; c__Clostridia; o__Clostridiales; f__; g__; s__'],\n       [ 'k__Bacteria; p__Firmicutes; c__Clostridia; o__Clostridiales; f__; g__; s__'],\n       [ 'k__Bacteria; p__Firmicutes; c__Clostridia; o__Clostridiales; f__Ruminococcaceae; g__; s__'],\n       [ 'k__Bacteria; p__Firmicutes; c__Clostridia; o__Clostridiales; f__Ruminococcaceae; g__; s__'],\n       [ 'k__Bacteria; p__Firmicutes; c__Clostridia; o__Clostridiales; f__; g__; s__'],\n       [ 'k__Bacteria; p__Firmicutes; c__Clostridia; o__Clostridiales; f__; g__; s__'],\n       [ 'k__Bacteria; p__Firmicutes; c__Clostridia; o__Clostridiales; f__; g__; s__'],\n       [ 'k__Bacteria; p__Firmicutes; c__Clostridia; o__Clostridiales; f__Clostridiaceae; g__Clostridium; s__'],\n       [ 'k__Bacteria; p__Firmicutes; c__Clostridia; o__Clostridiales; f__; g__; s__']], \n      dtype='|S147')"
      }
     ],
     "prompt_number": 15
    },
    {
     "cell_type": "code",
     "collapsed": false,
     "input": "y_pred[argwhere(targets != y_pred)]",
     "language": "python",
     "metadata": {},
     "outputs": [
      {
       "metadata": {},
       "output_type": "pyout",
       "prompt_number": 16,
       "text": "array([[ 'k__Bacteria; p__Firmicutes; c__Clostridia; o__Clostridiales; f__[Acidaminobacteraceae]; g__Acidaminobacter; s__'],\n       [ 'k__Bacteria; p__Firmicutes; c__Clostridia; o__Clostridiales; f__Ruminococcaceae; g__; s__'],\n       [ 'k__Bacteria; p__Proteobacteria; c__Alphaproteobacteria; o__Rickettsiales; f__mitochondria; g__Abies; s__homolepis'],\n       [ 'k__Bacteria; p__Firmicutes; c__Clostridia; o__Clostridiales; f__Clostridiaceae; g__Clostridium; s__'],\n       [ 'k__Bacteria; p__Firmicutes; c__Clostridia; o__Clostridiales; f__SBYG_4172; g__; s__'],\n       [ 'k__Bacteria; p__Firmicutes; c__Clostridia; o__Clostridiales; f__; g__; s__'],\n       [ 'k__Bacteria; p__Bacteroidetes; c__Bacteroidia; o__Bacteroidales; f__S24-7; g__; s__'],\n       [ 'k__Bacteria; p__Bacteroidetes; c__Cytophagia; o__Cytophagales; f__Flammeovirgaceae; g__Flexithrix; s__dorotheae'],\n       [ 'k__Bacteria; p__Firmicutes; c__Clostridia; o__Clostridiales; f__Peptococcaceae; g__Desulfotomaculum; s__'],\n       [ 'k__Bacteria; p__Firmicutes; c__Clostridia; o__Clostridiales; f__Clostridiaceae; g__; s__'],\n       [ 'k__Bacteria; p__Firmicutes; c__Clostridia; o__Clostridiales; f__; g__; s__'],\n       [ 'k__Bacteria; p__Firmicutes; c__Clostridia; o__Clostridiales; f__Ruminococcaceae; g__; s__'],\n       [ 'k__Bacteria; p__Firmicutes; c__Clostridia; o__Clostridiales; f__Ruminococcaceae; g__; s__'],\n       [ 'k__Bacteria; p__Firmicutes; c__Clostridia; o__Clostridiales; f__; g__; s__'],\n       [ 'k__Bacteria; p__Bacteroidetes; c__Sphingobacteriia; o__Sphingobacteriales; f__Sphingobacteriaceae; g__Solitalea; s__koreensis'],\n       [ 'k__Bacteria; p__Firmicutes; c__Clostridia; o__Thermoanaerobacterales; f__Thermoanaerobacteraceae; g__; s__'],\n       [ 'k__Bacteria; p__Firmicutes; c__Clostridia; o__Clostridiales; f__Ruminococcaceae; g__; s__'],\n       [ 'k__Bacteria; p__Firmicutes; c__Clostridia; o__Clostridiales; f__Ruminococcaceae; g__; s__'],\n       [ 'k__Bacteria; p__Firmicutes; c__Clostridia; o__Clostridiales; f__; g__; s__'],\n       [ 'k__Bacteria; p__Firmicutes; c__Clostridia; o__Clostridiales; f__; g__; s__'],\n       [ 'k__Bacteria; p__Firmicutes; c__Clostridia; o__Clostridiales; f__Lachnospiraceae; g__; s__'],\n       [ 'k__Bacteria; p__Firmicutes; c__Clostridia; o__Clostridiales; f__Ruminococcaceae; g__; s__'],\n       [ 'k__Bacteria; p__Firmicutes; c__Clostridia; o__Clostridiales; f__Ruminococcaceae; g__; s__'],\n       [ 'k__Bacteria; p__Firmicutes; c__Clostridia; o__Clostridiales; f__Lachnospiraceae; g__; s__'],\n       [ 'k__Bacteria; p__Firmicutes; c__Clostridia; o__Clostridiales; f__Clostridiaceae; g__; s__']], \n      dtype='|S147')"
      }
     ],
     "prompt_number": 16
    },
    {
     "cell_type": "code",
     "collapsed": false,
     "input": "",
     "language": "python",
     "metadata": {},
     "outputs": []
    }
   ],
   "metadata": {}
  }
 ]
}