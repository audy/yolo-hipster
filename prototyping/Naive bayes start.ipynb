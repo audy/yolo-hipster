{
 "metadata": {
  "name": ""
 },
 "nbformat": 3,
 "nbformat_minor": 0,
 "worksheets": [
  {
   "cells": [
    {
     "cell_type": "code",
     "collapsed": false,
     "input": [
      "from sklearn import datasets\n",
      "from sklearn.naive_bayes import GaussianNB"
     ],
     "language": "python",
     "metadata": {},
     "outputs": [],
     "prompt_number": 1
    },
    {
     "cell_type": "code",
     "collapsed": false,
     "input": [
      "from skbio.core.sequence import DNASequence\n",
      "from skbio.parse.sequences import parse_fasta\n",
      "\n",
      "sequences = {id_: DNASequence(s) for id_, s in parse_fasta(open('/Users/mcdonadt/ResearchWork/greengenes_release/gg_13_8_otus/rep_set/79_otus.fasta'))}"
     ],
     "language": "python",
     "metadata": {},
     "outputs": [],
     "prompt_number": 8
    },
    {
     "cell_type": "code",
     "collapsed": false,
     "input": [
      "from itertools import chain\n",
      "all_kwords = {i for i in chain(*map(lambda x: x.k_words(5), sequences.values())) if 'N' not in i}"
     ],
     "language": "python",
     "metadata": {},
     "outputs": [],
     "prompt_number": 29
    },
    {
     "cell_type": "code",
     "collapsed": false,
     "input": [
      "index_map = {k: idx for idx, k in enumerate(all_kwords)}"
     ],
     "language": "python",
     "metadata": {},
     "outputs": [],
     "prompt_number": 32
    },
    {
     "cell_type": "code",
     "collapsed": false,
     "input": [
      "kwords = zeros((len(sequences), len(index_map)))\n",
      "for idx, (id_, seq) in enumerate(sequences.iteritems()):\n",
      "    for kword, count in seq.k_word_counts(5).iteritems():\n",
      "        if 'N' in kword:\n",
      "            continue\n",
      "        kwords[idx, index_map[kword]] = count"
     ],
     "language": "python",
     "metadata": {},
     "outputs": [],
     "prompt_number": 37
    },
    {
     "cell_type": "code",
     "collapsed": false,
     "input": [
      "taxa_lines = [l.strip().split('\\t') for l in open('/Users/mcdonadt/ResearchWork/greengenes_release/gg_13_8_otus/taxonomy/79_otu_taxonomy.txt')]\n",
      "taxa = {k: v.split('; ') for k, v in taxa_lines}\n",
      "targets = array([taxa[id_][1] for id_ in sequences])"
     ],
     "language": "python",
     "metadata": {},
     "outputs": [],
     "prompt_number": 39
    },
    {
     "cell_type": "code",
     "collapsed": false,
     "input": [
      "gnb = GaussianNB()\n",
      "y_pred = gnb.fit(kwords, targets).predict(kwords)"
     ],
     "language": "python",
     "metadata": {},
     "outputs": [],
     "prompt_number": 42
    },
    {
     "cell_type": "code",
     "collapsed": false,
     "input": [
      "(targets != y_pred).sum()"
     ],
     "language": "python",
     "metadata": {},
     "outputs": [
      {
       "metadata": {},
       "output_type": "pyout",
       "prompt_number": 43,
       "text": [
        "454"
       ]
      }
     ],
     "prompt_number": 43
    },
    {
     "cell_type": "code",
     "collapsed": false,
     "input": [
      "len(sequences)"
     ],
     "language": "python",
     "metadata": {},
     "outputs": [
      {
       "metadata": {},
       "output_type": "pyout",
       "prompt_number": 44,
       "text": [
        "1165"
       ]
      }
     ],
     "prompt_number": 44
    },
    {
     "cell_type": "code",
     "collapsed": false,
     "input": [
      "y_pred[:10]"
     ],
     "language": "python",
     "metadata": {},
     "outputs": [
      {
       "metadata": {},
       "output_type": "pyout",
       "prompt_number": 45,
       "text": [
        "array(['p__Crenarchaeota', 'p__', 'p__Bacteroidetes', 'p__Euryarchaeota',\n",
        "       'p__OD1', 'p__GN02', 'p__', 'p__[Parvarchaeota]', 'p__',\n",
        "       'p__Bacteroidetes'], \n",
        "      dtype='|S19')"
       ]
      }
     ],
     "prompt_number": 45
    },
    {
     "cell_type": "code",
     "collapsed": false,
     "input": [
      "targets[:10]"
     ],
     "language": "python",
     "metadata": {},
     "outputs": [
      {
       "metadata": {},
       "output_type": "pyout",
       "prompt_number": 46,
       "text": [
        "array(['p__Crenarchaeota', 'p__Firmicutes', 'p__Bacteroidetes',\n",
        "       'p__Euryarchaeota', 'p__OD1', 'p__GN02', 'p__Firmicutes',\n",
        "       'p__Crenarchaeota', 'p__', 'p__Firmicutes'], \n",
        "      dtype='|S19')"
       ]
      }
     ],
     "prompt_number": 46
    },
    {
     "cell_type": "code",
     "collapsed": false,
     "input": [
      "pwd"
     ],
     "language": "python",
     "metadata": {},
     "outputs": [
      {
       "metadata": {},
       "output_type": "pyout",
       "prompt_number": 47,
       "text": [
        "u'/Users/mcdonadt/ResearchWork/2014/ag_1-9_core'"
       ]
      }
     ],
     "prompt_number": 47
    },
    {
     "cell_type": "code",
     "collapsed": false,
     "input": [],
     "language": "python",
     "metadata": {},
     "outputs": []
    }
   ],
   "metadata": {}
  }
 ]
}